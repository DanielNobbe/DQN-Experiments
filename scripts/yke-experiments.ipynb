{
 "cells": [
  {
   "cell_type": "code",
   "execution_count": 2,
   "metadata": {},
   "outputs": [],
   "source": [
    "#####################################################################"
   ]
  },
  {
   "cell_type": "code",
   "execution_count": 3,
   "metadata": {},
   "outputs": [],
   "source": [
    "import numpy as np\n",
    "import random\n",
    "import torch\n",
    "from torch import nn\n",
    "import torch.nn.functional as F\n",
    "import matplotlib.pyplot as plt\n",
    "from torch import optim\n",
    "from tqdm import tqdm as _tqdm\n",
    "import gym\n",
    "import argparse\n",
    "import copy\n",
    "from gridworld import GridworldEnv\n",
    "from tqdm import tqdm\n",
    "import pickle\n",
    "import itertools\n",
    "\n",
    "from contextlib import contextmanager\n",
    "import sys, os\n",
    "\n",
    "from DQN_model import QNetwork\n",
    "from DQN_replay import ReplayMemory\n",
    "from DQN_policy import EpsilonGreedyPolicy, get_epsilon\n",
    "from DQN_training import train\n",
    "from DQN_plots import plot_smooth\n",
    "from DQN_main import run_episodes"
   ]
  },
  {
   "cell_type": "code",
   "execution_count": 4,
   "metadata": {},
   "outputs": [],
   "source": [
    "# From https://stackoverflow.com/questions/2125702/how-to-suppress-console-output-in-python\n",
    "@contextmanager\n",
    "def suppress_stdout(suppress):\n",
    "    with open(os.devnull, \"w\") as devnull:\n",
    "        old_stdout = sys.stdout\n",
    "        if suppress:\n",
    "            sys.stdout = devnull\n",
    "        try:  \n",
    "            yield\n",
    "        finally:\n",
    "            sys.stdout = old_stdout"
   ]
  },
  {
   "cell_type": "code",
   "execution_count": 77,
   "metadata": {},
   "outputs": [],
   "source": [
    "listi = [1, 2, 3]\n",
    "# print(itertools.cycle(listi)[4])"
   ]
  },
  {
   "cell_type": "code",
   "execution_count": null,
   "metadata": {},
   "outputs": [],
   "source": [
    "def bin_lst(lst, halfbin=10):\n",
    "    avgd = []\n",
    "    for i in range(len(lst)):\n",
    "        if i < halfbin:\n",
    "            avgd.append(np.mean(lst[:i*2+1]))\n",
    "        elif len(lst)-1-i < halfbin:\n",
    "            diff = len(lst)-1-i\n",
    "            avgd.append(np.mean(lst[i-diff:]))\n",
    "        else:\n",
    "            avgd.append(np.mean(lst[i-halfbin:i+halfbin]))\n",
    "    return avgd"
   ]
  },
  {
   "cell_type": "code",
   "execution_count": 86,
   "metadata": {},
   "outputs": [],
   "source": [
    "def plot_with_error(losses, unc=True, filename=None, plot_label=\"Loss\", y_label=\"Loss\", colour='blue',\n",
    "                    fig_in=None, red_line=None, mean_only=False, lw=2, bin_it=None):\n",
    "    losses = np.array(losses)\n",
    "\n",
    "    \n",
    "    means = np.mean(losses, axis=0)\n",
    "    errors = np.std(losses, axis=0)\n",
    "    \n",
    "    if bin_it is not None:\n",
    "        means = bin_lst(means, halfbin=bin_it)\n",
    "        errors = bin_lst(errors, halfbin=bin_it)\n",
    "    \n",
    "    if unc: # Plot uncertainty instead of std\n",
    "        errors = errors / np.sqrt(losses.shape[0])\n",
    "    \n",
    "    x = np.arange(len(means))\n",
    "    if fig_in is None:\n",
    "        fig, ax = plt.subplots(1)\n",
    "        if red_line is not None:\n",
    "            plt.axhline(y=red_line, color='r', linestyle='-')\n",
    "    else:\n",
    "        fig, ax = fig_in\n",
    "    ax.plot(x, means, lw=2, label=f\"Mean {plot_label}\", color=colour, linewidth=lw)\n",
    "    if not mean_only:\n",
    "        ax.fill_between(x, means+errors, means-errors, facecolor=colour, alpha=0.5)\n",
    "    if fig_in is None:\n",
    "        ax.legend(loc='upper left', fancybox=True)\n",
    "    ax.set_xlabel('Episodes')\n",
    "    ax.set_ylabel(y_label)\n",
    "    \n",
    "    \n",
    "    \n",
    "    ax.grid()\n",
    "    if fig_in is not None:\n",
    "        return fig, ax\n",
    "    if filename is not None:\n",
    "        save_path = '../plots/'\n",
    "        if not os.path.isdir(save_path):\n",
    "            os.mkdir(save_path)\n",
    "                \n",
    "        plt.savefig(f\"{save_path}/{filename}.pdf\", format='pdf')\n",
    "        \n",
    "def plot_multiple(multiple_losses, labels, filename=None, y_label=\"Loss\",\n",
    "                  red_line=None, br=False, legend_off=False, mean_only=False, title=None, lw=2,bin_it=None): # Assumes multiple losses contains a set of loss_list's for each parameter\n",
    "    # File prepends should be a list of names\n",
    "    colours = ['b', 'g', 'y', 'm', 'c', 'k', 'w']\n",
    "    fig, ax = plt.subplots()\n",
    "    if title is not None:\n",
    "        plt.title(title)\n",
    "    if red_line is not None:\n",
    "        plt.axhline(y=red_line, color='r', linestyle='-')\n",
    "    for (losses, colour, label) in zip(multiple_losses, colours, labels):\n",
    "        plot_with_error(losses, unc=True, plot_label=label, y_label=y_label, colour=colour,\n",
    "                        fig_in = (fig,ax), red_line=red_line, mean_only=mean_only, lw=lw, bin_it=bin_it)\n",
    "    \n",
    "    ax.grid()\n",
    "    if br and not legend_off:\n",
    "        ax.legend(loc='lower right', fancybox=True)\n",
    "    elif not legend_off:\n",
    "        ax.legend(loc='upper left', bbox_to_anchor=(1.0, 1.0), fancybox=True)\n",
    "    if filename is not None:\n",
    "        save_path = '../plots/'\n",
    "        if not os.path.isdir(save_path):\n",
    "            os.mkdir(save_path)\n",
    "                \n",
    "        plt.savefig(f\"{save_path}/{filename}.pdf\", format='pdf')"
   ]
  },
  {
   "cell_type": "code",
   "execution_count": 56,
   "metadata": {},
   "outputs": [],
   "source": [
    "def pickle_tuple(tupl, filename='test'):\n",
    "    save_path = '../pickles/'\n",
    "    if not os.path.isdir(save_path):\n",
    "        os.mkdir(save_path)\n",
    "    with open(f\"{save_path}/{filename}.pkl\", 'wb') as f:\n",
    "        pickle.dump(tupl,f)\n",
    "\n",
    "def unpickle_tuple(filename='test'):\n",
    "    save_path = '../pickles/'\n",
    "    if not os.path.isdir(save_path):\n",
    "        os.mkdir(save_path)\n",
    "    with open(f\"{save_path}/{filename}.pkl\", 'rb') as f:\n",
    "        return pickle.load(f)"
   ]
  },
  {
   "cell_type": "code",
   "execution_count": 8,
   "metadata": {},
   "outputs": [],
   "source": [
    "def run_setting(env_name, num_episodes, batch_size, memory_size, discount_factor, learn_rate, seed, num_hidden, \n",
    "                min_eps, max_eps, anneal_time, clone_interval, clipping, suppress_printing):\n",
    "    # mostly copied from main() in DQN_main.py, removed some code for overview\n",
    "    # if you want replay to be turned off, use batch_size=memory_size=1\n",
    "    # returns episode durations (list), losses averaged per step (list), max abs q averaged per step (list)\n",
    "    \n",
    "    env = GridworldEnv() if env_name == \"GridWorldEnv\" else gym.make(env_name)\n",
    "\n",
    "    obs_shape = env.observation_space.shape\n",
    "    num_actions = env.action_space.n\n",
    "    if env_name == \"Blackjack-v0\":\n",
    "        obs_size = 3\n",
    "    elif len(obs_shape) > 0: \n",
    "        obs_size = obs_shape[0]\n",
    "    else:\n",
    "        obs_size = 1\n",
    "#     obs_size = obs_shape[0] if len(obs_shape) > 0 else 1\n",
    "\n",
    "    memory = ReplayMemory(memory_size)\n",
    "\n",
    "    # for reproducibility\n",
    "    random.seed(seed)\n",
    "    torch.manual_seed(seed)\n",
    "    env.seed(seed)\n",
    "\n",
    "    Q_net = QNetwork(obs_size, num_actions, num_hidden=num_hidden)\n",
    "    policy = EpsilonGreedyPolicy(Q_net, num_actions)\n",
    "    with suppress_stdout(suppress_printing):\n",
    "        return run_episodes(train, Q_net, policy, memory, env, num_episodes, batch_size, discount_factor, \n",
    "                            learn_rate, clone_interval, min_eps, max_eps, anneal_time, clipping)"
   ]
  },
  {
   "cell_type": "code",
   "execution_count": 9,
   "metadata": {},
   "outputs": [
    {
     "name": "stderr",
     "output_type": "stream",
     "text": [
      "  0%|          | 0/10 [00:00<?, ?it/s]/Users/Yke/Desktop/AI/Year2/RL/venv/miniconda3/envs/rl2020/lib/python3.7/site-packages/gym/envs/registration.py:14: PkgResourcesDeprecationWarning: Parameters to load are deprecated.  Call .resolve and .require separately.\n",
      "  result = entry_point.load(False)\n",
      "/Users/Yke/Desktop/AI/Year2/RL/reproducibility-lab/DQN-Experiments/scripts/DQN_model.py:18: UserWarning: To copy construct from a tensor, it is recommended to use sourceTensor.clone().detach() or sourceTensor.clone().detach().requires_grad_(True), rather than torch.tensor(sourceTensor).\n",
      "  x = torch.tensor(x)  # Seems like this does nothing, even when numpy gets passed into Q\n",
      "100%|██████████| 10/10 [04:17<00:00, 28.29s/it]"
     ]
    },
    {
     "name": "stdout",
     "output_type": "stream",
     "text": [
      "4.284290651480357 min\n"
     ]
    },
    {
     "name": "stderr",
     "output_type": "stream",
     "text": [
      "\n"
     ]
    }
   ],
   "source": [
    "# Replay OFF, Target Network OFF\n",
    "settings = {\n",
    "    'env_name':\"CartPole-v1\",\n",
    "    'num_episodes':300,\n",
    "    'batch_size':1, \n",
    "    'memory_size':1, \n",
    "    'discount_factor':0.8, \n",
    "    'learn_rate':1e-3, \n",
    "    'num_hidden':128, \n",
    "    'min_eps':0.05, \n",
    "    'max_eps':1., \n",
    "    'anneal_time':1000, \n",
    "    'clone_interval':None, \n",
    "    'clipping':True,\n",
    "    'suppress_printing':True\n",
    "}\n",
    "\n",
    "start_ = time.time()\n",
    "durations_list_rF_tF, losses_list_rF_tF, max_Qs_list_rF_tF = [], [], []\n",
    "for seed in tqdm(range(1,11)):\n",
    "    durations, losses, max_Qs = run_setting(**settings, seed=seed)\n",
    "    durations_list_rF_tF.append(durations)\n",
    "    losses_list_rF_tF.append(losses)\n",
    "    max_Qs_list_rF_tF.append(max_Qs)\n",
    "filename = f\"CartPole-v1_replay_off_tn_off\"\n",
    "pickle_tuple((durations_list_rF_tF, losses_list_rF_tF, max_Qs_list_rF_tF, settings), filename=filename)\n",
    "print((time.time() - start_)/60, \"min\")"
   ]
  },
  {
   "cell_type": "code",
   "execution_count": 11,
   "metadata": {},
   "outputs": [
    {
     "name": "stderr",
     "output_type": "stream",
     "text": [
      "100%|██████████| 10/10 [18:52<00:00, 119.06s/it]"
     ]
    },
    {
     "name": "stdout",
     "output_type": "stream",
     "text": [
      "18.87795786857605 min\n"
     ]
    },
    {
     "name": "stderr",
     "output_type": "stream",
     "text": [
      "\n"
     ]
    }
   ],
   "source": [
    "# Replay ON, Target Network OFF\n",
    "settings = {\n",
    "    'env_name':\"CartPole-v1\",\n",
    "    'num_episodes':300,\n",
    "    'batch_size':64, \n",
    "    'memory_size':50000, \n",
    "    'discount_factor':0.8, \n",
    "    'learn_rate':1e-3, \n",
    "    'num_hidden':128, \n",
    "    'min_eps':0.05, \n",
    "    'max_eps':1., \n",
    "    'anneal_time':1000, \n",
    "    'clone_interval':None, \n",
    "    'clipping':True,\n",
    "    'suppress_printing':True\n",
    "}\n",
    "\n",
    "start_ = time.time()\n",
    "durations_list_rT_tF, losses_list_rT_tF, max_Qs_list_rT_tF = [], [], []\n",
    "for seed in tqdm(range(1,11)):\n",
    "    durations, losses, max_Qs = run_setting(**settings, seed=seed)\n",
    "    durations_list_rT_tF.append(durations)\n",
    "    losses_list_rT_tF.append(losses)\n",
    "    max_Qs_list_rT_tF.append(max_Qs)\n",
    "filename = f\"CartPole-v1_replay_on_tn_off\"\n",
    "pickle_tuple((durations_list_rT_tF, losses_list_rT_tF, max_Qs_list_rT_tF, settings), filename=filename)\n",
    "print((time.time() - start_)/60, \"min\")"
   ]
  },
  {
   "cell_type": "code",
   "execution_count": 21,
   "metadata": {},
   "outputs": [
    {
     "name": "stderr",
     "output_type": "stream",
     "text": [
      "100%|██████████| 10/10 [03:10<00:00, 21.59s/it]"
     ]
    },
    {
     "name": "stdout",
     "output_type": "stream",
     "text": [
      "3.170945715904236 min\n"
     ]
    },
    {
     "name": "stderr",
     "output_type": "stream",
     "text": [
      "\n"
     ]
    }
   ],
   "source": [
    "# Replay OFF, Target Network ON\n",
    "settings = {\n",
    "    'env_name':\"CartPole-v1\",\n",
    "    'num_episodes':300,\n",
    "    'batch_size':1, \n",
    "    'memory_size':1, \n",
    "    'discount_factor':0.8, \n",
    "    'learn_rate':1e-3, \n",
    "    'num_hidden':128, \n",
    "    'min_eps':0.05, \n",
    "    'max_eps':1., \n",
    "    'anneal_time':1000, \n",
    "    'clone_interval':10, \n",
    "    'clipping':True,\n",
    "    'suppress_printing':True\n",
    "}\n",
    "\n",
    "start_ = time.time()\n",
    "durations_list_rF_tT, losses_list_rF_tT, max_Qs_list_rF_tT = [], [], []\n",
    "for seed in tqdm(range(1,11)):\n",
    "    durations, losses, max_Qs = run_setting(**settings, seed=seed)\n",
    "    durations_list_rF_tT.append(durations)\n",
    "    losses_list_rF_tT.append(losses)\n",
    "    max_Qs_list_rF_tT.append(max_Qs)\n",
    "filename = f\"CartPole-v1_replay_off_tn10_on\"\n",
    "pickle_tuple((durations_list_rF_tT, losses_list_rF_tT, max_Qs_list_rF_tT, settings), filename=filename)\n",
    "print((time.time() - start_)/60, \"min\")"
   ]
  },
  {
   "cell_type": "code",
   "execution_count": 22,
   "metadata": {},
   "outputs": [
    {
     "name": "stderr",
     "output_type": "stream",
     "text": [
      "100%|██████████| 10/10 [20:31<00:00, 124.35s/it]"
     ]
    },
    {
     "name": "stdout",
     "output_type": "stream",
     "text": [
      "20.526058399677275 min\n"
     ]
    },
    {
     "name": "stderr",
     "output_type": "stream",
     "text": [
      "\n"
     ]
    }
   ],
   "source": [
    "# Replay ON, Target Network ON\n",
    "settings = {\n",
    "    'env_name':\"CartPole-v1\",\n",
    "    'num_episodes':300,\n",
    "    'batch_size':64, \n",
    "    'memory_size':50000, \n",
    "    'discount_factor':0.8, \n",
    "    'learn_rate':1e-3, \n",
    "    'num_hidden':128, \n",
    "    'min_eps':0.05, \n",
    "    'max_eps':1., \n",
    "    'anneal_time':1000, \n",
    "    'clone_interval':10, \n",
    "    'clipping':True,\n",
    "    'suppress_printing':True\n",
    "}\n",
    "\n",
    "start_ = time.time()\n",
    "durations_list_rT_tT, losses_list_rT_tT, max_Qs_list_rT_tT = [], [], []\n",
    "for seed in tqdm(range(1,11)):\n",
    "    durations, losses, max_Qs = run_setting(**settings, seed=seed)\n",
    "    durations_list_rT_tT.append(durations)\n",
    "    losses_list_rT_tT.append(losses)\n",
    "    max_Qs_list_rT_tT.append(max_Qs)\n",
    "filename = f\"CartPole-v1_replay_on_tn10_on\"\n",
    "pickle_tuple((durations_list_rT_tT, losses_list_rT_tT, max_Qs_list_rT_tT, settings), filename=filename)\n",
    "print((time.time() - start_)/60, \"min\")"
   ]
  },
  {
   "cell_type": "code",
   "execution_count": 69,
   "metadata": {},
   "outputs": [],
   "source": []
  },
  {
   "cell_type": "code",
   "execution_count": null,
   "metadata": {
    "scrolled": false
   },
   "outputs": [],
   "source": []
  },
  {
   "cell_type": "code",
   "execution_count": 79,
   "metadata": {},
   "outputs": [],
   "source": [
    "t_settings = [\"10\",\"100\",\"1k\",\"10k\",\"50k\"]\n",
    "data = {\"r-on\":{},\"r-off\":{}}\n",
    "for r_setting in [\"on\", \"off\"]:\n",
    "    for t_setting in [\"10\",\"100\",\"1k\",\"10k\",\"50k\"]:\n",
    "        fname = f\"CartPole-v1_replay_{r_setting}_tn{t_setting}_on\"\n",
    "        data[f\"r-{r_setting}\"][f\"t-{t_setting}\"] = unpickle_tuple(filename=fname)\n",
    "rF_tF = unpickle_tuple(filename=f\"CartPole-v1_replay_off_tn_off\")\n",
    "rT_tF = unpickle_tuple(filename=f\"CartPole-v1_replay_on_tn_off\")"
   ]
  },
  {
   "cell_type": "code",
   "execution_count": 93,
   "metadata": {},
   "outputs": [
    {
     "name": "stderr",
     "output_type": "stream",
     "text": [
      "/Users/Yke/Desktop/AI/Year2/RL/venv/miniconda3/envs/rl2020/lib/python3.7/site-packages/ipykernel_launcher.py:23: MatplotlibDeprecationWarning: Saw kwargs ['lw', 'linewidth'] which are all aliases for 'linewidth'.  Kept value from 'linewidth'.  Passing multiple aliases for the same property will raise a TypeError in 3.3.\n"
     ]
    },
    {
     "data": {
      "image/png": "[encoded data removed]",
      "text/plain": [
       "<Figure size 432x288 with 1 Axes>"
      ]
     },
     "metadata": {
      "needs_background": "light"
     },
     "output_type": "display_data"
    },
    {
     "data": {
      "image/png": "[encoded data removed]",
      "text/plain": [
       "<Figure size 432x288 with 1 Axes>"
      ]
     },
     "metadata": {
      "needs_background": "light"
     },
     "output_type": "display_data"
    }
   ],
   "source": [
    "i = 1\n",
    "ylabels = [\"Durations\", \"Loss\", \"max|Q|\"]\n",
    "\n",
    "#(durations, losses, max_Qs, settings)\n",
    "rF_data = [data[f\"r-off\"][f\"t-{t}\"][i] for t in t_settings]\n",
    "plot_multiple(rF_data+[rF_tF[i]], [f\"tn-{t}\" for t in t_settings+[\"OFF\"]], \n",
    "              y_label=ylabels[i], mean_only=True, title=\"replay OFF\", lw=1.3, bin_it=4)\n",
    "\n",
    "rT_data = [data[f\"r-on\"][f\"t-{t}\"][i] for t in t_settings]\n",
    "plot_multiple(rT_data+[rT_tF[i]], [f\"tn-{t}\" for t in t_settings+[\"OFF\"]],\n",
    "              y_label=ylabels[i], mean_only=True, title=\"replay ON\", lw=1.3, bin_it=4)"
   ]
  },
  {
   "cell_type": "code",
   "execution_count": null,
   "metadata": {},
   "outputs": [],
   "source": [
    "###########################################################################"
   ]
  },
  {
   "cell_type": "code",
   "execution_count": null,
   "metadata": {},
   "outputs": [],
   "source": []
  }
 ],
 "metadata": {
  "kernelspec": {
   "display_name": "Python 3",
   "language": "python",
   "name": "python3"
  },
  "language_info": {
   "codemirror_mode": {
    "name": "ipython",
    "version": 3
   },
   "file_extension": ".py",
   "mimetype": "text/x-python",
   "name": "python",
   "nbconvert_exporter": "python",
   "pygments_lexer": "ipython3",
   "version": "3.7.3"
  }
 },
 "nbformat": 4,
 "nbformat_minor": 4
}
