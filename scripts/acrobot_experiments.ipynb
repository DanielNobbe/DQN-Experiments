{
 "cells": [
  {
   "cell_type": "code",
   "execution_count": 1,
   "metadata": {},
   "outputs": [],
   "source": [
    "import numpy as np\n",
    "import random\n",
    "import torch\n",
    "from torch import nn\n",
    "import torch.nn.functional as F\n",
    "import matplotlib.pyplot as plt\n",
    "from torch import optim\n",
    "from tqdm import tqdm as _tqdm\n",
    "import gym\n",
    "import argparse\n",
    "import copy\n",
    "from gridworld import GridworldEnv\n",
    "from tqdm import tqdm\n",
    "import pickle\n",
    "import itertools\n",
    "\n",
    "from contextlib import contextmanager\n",
    "import sys, os\n",
    "\n",
    "from DQN_model import QNetwork\n",
    "from DQN_replay import ReplayMemory\n",
    "from DQN_policy import EpsilonGreedyPolicy, get_epsilon\n",
    "from DQN_training import train\n",
    "from DQN_plots import plot_smooth\n",
    "from DQN_main import run_episodes"
   ]
  },
  {
   "cell_type": "code",
   "execution_count": 2,
   "metadata": {},
   "outputs": [],
   "source": [
    "# From https://stackoverflow.com/questions/2125702/how-to-suppress-console-output-in-python\n",
    "@contextmanager\n",
    "def suppress_stdout(suppress):\n",
    "    with open(os.devnull, \"w\") as devnull:\n",
    "        old_stdout = sys.stdout\n",
    "        if suppress:\n",
    "            sys.stdout = devnull\n",
    "        try:  \n",
    "            yield\n",
    "        finally:\n",
    "            sys.stdout = old_stdout"
   ]
  },
  {
   "cell_type": "code",
   "execution_count": 60,
   "metadata": {},
   "outputs": [],
   "source": [
    "def plot_with_error(losses, unc=True, filename=None, plot_label=\"Loss\", y_label=\"Loss\", colour='blue',\n",
    "                    fig_in=None, red_line=None, smooth=None):\n",
    "    losses = np.array(losses)\n",
    "\n",
    "    means = np.mean(losses, axis=0)\n",
    "    errors = np.std(losses, axis=0)\n",
    "    \n",
    "    if unc: # Plot uncertainty instead of std\n",
    "        errors = errors / np.sqrt(losses.shape[0])\n",
    "    \n",
    "    \n",
    "    \n",
    "    \n",
    "    if fig_in is None:\n",
    "        fig, ax = plt.subplots(1)\n",
    "        if red_line is not None:\n",
    "            plt.axhline(y=red_line, color='r', linestyle='-')\n",
    "    else:\n",
    "        fig, ax = fig_in\n",
    "        \n",
    "    if smooth is not None:\n",
    "        cummeans = np.cumsum(np.insert(means, 0, 0))\n",
    "        means = (cummeans[smooth:] - cummeans[:-smooth]) / float(smooth)\n",
    "        \n",
    "        cumerrors = np.cumsum(np.insert(errors, 0, 0))\n",
    "        errors = (cumerrors[smooth:] - cumerrors[:-smooth]) / float(smooth)\n",
    "        \n",
    "    x = np.arange(len(means))    \n",
    "    ax.plot(x, means, lw=2, label=f\"{plot_label}\", color=colour)\n",
    "    ax.fill_between(x, means+errors, means-errors, facecolor=colour, alpha=0.5)\n",
    "    if fig_in is None:\n",
    "        ax.legend(loc='upper left', fancybox=True)\n",
    "    ax.set_xlabel('Episodes', fontsize=14)\n",
    "    ax.set_ylabel(y_label, fontsize=14)\n",
    "    \n",
    "    \n",
    "    \n",
    "    ax.grid()\n",
    "    if fig_in is not None:\n",
    "        return fig, ax\n",
    "    if filename is not None:\n",
    "        save_path = '../plots/'\n",
    "        if not os.path.isdir(save_path):\n",
    "            os.mkdir(save_path)\n",
    "                \n",
    "        plt.savefig(f\"{save_path}/{filename}.pdf\", format='pdf')\n",
    "        \n",
    "def plot_multiple(multiple_losses, labels, filename=None, y_label=\"Loss\",\n",
    "                  red_line=None, br=False, legend_off=False, log=False, smooth=None,\n",
    "                 subplot = None, title=\"Title\"): # Assumes multiple losses contains a set of loss_list's for each parameter\n",
    "    # File prepends should be a list of names\n",
    "    colours = ['b', 'g', 'y', 'm', 'c', 'k', 'w']\n",
    "    if subplot is None:\n",
    "        fig, ax = plt.subplots()\n",
    "    else:\n",
    "        fig, ax = subplot\n",
    "    if red_line is not None:\n",
    "        ax.axhline(y=red_line, color='r', linestyle='-')\n",
    "    for (losses, colour, label) in zip(multiple_losses, colours, labels):\n",
    "        plot_with_error(losses, unc=True, plot_label=label, y_label=y_label, colour=colour,\n",
    "                        fig_in = (fig,ax), red_line=red_line, smooth=smooth)\n",
    "    if log:\n",
    "        plt.yscale(\"log\")\n",
    "    ax.grid()\n",
    "    if br and not legend_off:\n",
    "        ax.legend(loc='lower right', fancybox=True, framealpha=0.4, fontsize=13)\n",
    "    elif not legend_off:\n",
    "        ax.legend(loc='upper left', fancybox=True, framealpha=0.4, fontsize=13)\n",
    "    ax.set_title(title, fontsize=15)\n",
    "    if filename is not None:\n",
    "        save_path = '../plots/'\n",
    "        if not os.path.isdir(save_path):\n",
    "            os.mkdir(save_path)\n",
    "                \n",
    "        plt.savefig(f\"{save_path}/{filename}.pdf\", format='pdf')\n",
    "    \n",
    "    "
   ]
  },
  {
   "cell_type": "code",
   "execution_count": 17,
   "metadata": {},
   "outputs": [],
   "source": [
    "def pickle_tuple(tupl, filename='test'):\n",
    "    save_path = '../pickles/'\n",
    "    if not os.path.isdir(save_path):\n",
    "        os.mkdir(save_path)\n",
    "    with open(f\"{save_path}/{filename}.pkl\", 'wb') as f:\n",
    "        pickle.dump(tupl,f)\n",
    "\n",
    "def unpickle_tuple(filename='test'):\n",
    "    save_path = '../pickles/'\n",
    "    if not os.path.isdir(save_path):\n",
    "        os.mkdir(save_path)\n",
    "    with open(f\"{save_path}/{filename}.pkl\", 'rb') as f:\n",
    "        return pickle.load(f)"
   ]
  },
  {
   "cell_type": "code",
   "execution_count": 6,
   "metadata": {},
   "outputs": [],
   "source": [
    "def run_setting(env_name, num_episodes, batch_size, memory_size, discount_factor, learn_rate, seed, num_hidden, \n",
    "                min_eps, max_eps, anneal_time, clone_interval, clipping, suppress_printing):\n",
    "    # mostly copied from main() in DQN_main.py, removed some code for overview\n",
    "    # if you want replay to be turned off, use batch_size=memory_size=1\n",
    "    # returns episode durations (list), losses averaged per step (list), max abs q averaged per step (list)\n",
    "    \n",
    "    env = GridworldEnv() if env_name == \"GridWorldEnv\" else gym.make(env_name)\n",
    "\n",
    "    obs_shape = env.observation_space.shape\n",
    "    num_actions = env.action_space.n\n",
    "    if env_name == \"Blackjack-v0\":\n",
    "        obs_size = 3\n",
    "    elif len(obs_shape) > 0: \n",
    "        obs_size = obs_shape[0]\n",
    "    else:\n",
    "        obs_size = 1\n",
    "#     obs_size = obs_shape[0] if len(obs_shape) > 0 else 1\n",
    "\n",
    "    memory = ReplayMemory(memory_size)\n",
    "\n",
    "    # for reproducibility\n",
    "    random.seed(seed)\n",
    "    torch.manual_seed(seed)\n",
    "    env.seed(seed)\n",
    "\n",
    "    Q_net = QNetwork(obs_size, num_actions, num_hidden=num_hidden)\n",
    "    policy = EpsilonGreedyPolicy(Q_net, num_actions)\n",
    "    with suppress_stdout(suppress_printing):\n",
    "        return run_episodes(train, Q_net, policy, memory, env, num_episodes, batch_size, discount_factor, \n",
    "                            learn_rate, clone_interval, min_eps, max_eps, anneal_time, clipping)"
   ]
  },
  {
   "cell_type": "code",
   "execution_count": null,
   "metadata": {
    "collapsed": true
   },
   "outputs": [],
   "source": [
    "# Replay ON, Target Network OFF\n",
    "settings = {\n",
    "    'env_name':\"CartPole-v1\",\n",
    "    'num_episodes':1000,\n",
    "    'batch_size':64, \n",
    "    'memory_size':50000, \n",
    "    'discount_factor':0.8, \n",
    "    'learn_rate':1e-3, \n",
    "    'num_hidden':128, \n",
    "    'min_eps':0.05, \n",
    "    'max_eps':1., \n",
    "    'anneal_time':1000, \n",
    "    'clone_interval':None, \n",
    "    'clipping':True,\n",
    "    'suppress_printing':True\n",
    "}\n",
    "\n",
    "durations_list_rT_tF, losses_list_rT_tF, max_Qs_list_rT_tF = [], [], []\n",
    "for seed in tqdm(range(1,11)):\n",
    "    durations, losses, max_Qs = run_setting(**settings, seed=seed)\n",
    "    durations_list_rT_tF.append(durations)\n",
    "    losses_list_rT_tF.append(losses)\n",
    "    max_Qs_list_rT_tF.append(max_Qs)\n",
    "filename = f\"CartPole-v1_{seed}_replay_on\"\n",
    "pickle_tuple((durations_list_rT_tF, losses_list_rT_tF, max_Qs_list_rT_tF, settings), filename=filename)"
   ]
  },
  {
   "cell_type": "code",
   "execution_count": 70,
   "metadata": {},
   "outputs": [
    {
     "name": "stderr",
     "output_type": "stream",
     "text": [
      "  0%|          | 0/10 [00:00<?, ?it/s]/home/daniel/anaconda3/envs/rl2020/lib/python3.7/site-packages/gym/envs/registration.py:14: PkgResourcesDeprecationWarning: Parameters to load are deprecated.  Call .resolve and .require separately.\n",
      "  result = entry_point.load(False)\n",
      "/mnt/20E2A17CE2A15736/Users/Public/Documents/Central Documents/Education/MSc AI UvA/Courses/Reinforcement Learning/Labs/DQN-Experiments/scripts/DQN_model.py:18: UserWarning: To copy construct from a tensor, it is recommended to use sourceTensor.clone().detach() or sourceTensor.clone().detach().requires_grad_(True), rather than torch.tensor(sourceTensor).\n",
      "  x = torch.tensor(x)  # Seems like this does nothing, even when numpy gets passed into Q\n"
     ]
    },
    {
     "name": "stdout",
     "output_type": "stream",
     "text": [
      "\u001b[33mWARN: gym.spaces.Box autodetected dtype as <class 'numpy.float32'>. Please provide explicit dtype.\u001b[0m\n"
     ]
    },
    {
     "name": "stderr",
     "output_type": "stream",
     "text": [
      "\r",
      " 10%|█         | 1/10 [04:22<39:23, 262.59s/it]"
     ]
    },
    {
     "name": "stdout",
     "output_type": "stream",
     "text": [
      "\u001b[33mWARN: gym.spaces.Box autodetected dtype as <class 'numpy.float32'>. Please provide explicit dtype.\u001b[0m\n"
     ]
    },
    {
     "name": "stderr",
     "output_type": "stream",
     "text": [
      "\r",
      " 20%|██        | 2/10 [07:43<32:32, 244.05s/it]"
     ]
    },
    {
     "name": "stdout",
     "output_type": "stream",
     "text": [
      "\u001b[33mWARN: gym.spaces.Box autodetected dtype as <class 'numpy.float32'>. Please provide explicit dtype.\u001b[0m\n"
     ]
    },
    {
     "name": "stderr",
     "output_type": "stream",
     "text": [
      "\r",
      " 30%|███       | 3/10 [11:27<27:47, 238.19s/it]"
     ]
    },
    {
     "name": "stdout",
     "output_type": "stream",
     "text": [
      "\u001b[33mWARN: gym.spaces.Box autodetected dtype as <class 'numpy.float32'>. Please provide explicit dtype.\u001b[0m\n"
     ]
    },
    {
     "name": "stderr",
     "output_type": "stream",
     "text": [
      "\r",
      " 40%|████      | 4/10 [14:51<22:46, 227.72s/it]"
     ]
    },
    {
     "name": "stdout",
     "output_type": "stream",
     "text": [
      "\u001b[33mWARN: gym.spaces.Box autodetected dtype as <class 'numpy.float32'>. Please provide explicit dtype.\u001b[0m\n"
     ]
    },
    {
     "name": "stderr",
     "output_type": "stream",
     "text": [
      "\r",
      " 50%|█████     | 5/10 [18:25<18:37, 223.57s/it]"
     ]
    },
    {
     "name": "stdout",
     "output_type": "stream",
     "text": [
      "\u001b[33mWARN: gym.spaces.Box autodetected dtype as <class 'numpy.float32'>. Please provide explicit dtype.\u001b[0m\n"
     ]
    },
    {
     "name": "stderr",
     "output_type": "stream",
     "text": [
      "\r",
      " 60%|██████    | 6/10 [22:28<15:18, 229.55s/it]"
     ]
    },
    {
     "name": "stdout",
     "output_type": "stream",
     "text": [
      "\u001b[33mWARN: gym.spaces.Box autodetected dtype as <class 'numpy.float32'>. Please provide explicit dtype.\u001b[0m\n"
     ]
    },
    {
     "name": "stderr",
     "output_type": "stream",
     "text": [
      "\r",
      " 70%|███████   | 7/10 [26:17<11:28, 229.43s/it]"
     ]
    },
    {
     "name": "stdout",
     "output_type": "stream",
     "text": [
      "\u001b[33mWARN: gym.spaces.Box autodetected dtype as <class 'numpy.float32'>. Please provide explicit dtype.\u001b[0m\n"
     ]
    },
    {
     "name": "stderr",
     "output_type": "stream",
     "text": [
      "\r",
      " 80%|████████  | 8/10 [30:00<07:34, 227.32s/it]"
     ]
    },
    {
     "name": "stdout",
     "output_type": "stream",
     "text": [
      "\u001b[33mWARN: gym.spaces.Box autodetected dtype as <class 'numpy.float32'>. Please provide explicit dtype.\u001b[0m\n"
     ]
    },
    {
     "name": "stderr",
     "output_type": "stream",
     "text": [
      "\r",
      " 90%|█████████ | 9/10 [34:50<04:06, 246.30s/it]"
     ]
    },
    {
     "name": "stdout",
     "output_type": "stream",
     "text": [
      "\u001b[33mWARN: gym.spaces.Box autodetected dtype as <class 'numpy.float32'>. Please provide explicit dtype.\u001b[0m\n"
     ]
    },
    {
     "name": "stderr",
     "output_type": "stream",
     "text": [
      "100%|██████████| 10/10 [38:59<00:00, 233.95s/it]\n"
     ]
    }
   ],
   "source": [
    "# ACROBOT: Replay OFF, Target Network OFF\n",
    "settings = {\n",
    "    'env_name':\"Acrobot-v1\",\n",
    "    'num_episodes':600,\n",
    "    'batch_size':1, \n",
    "    'memory_size':1, \n",
    "    'discount_factor':0.999, \n",
    "    'learn_rate':1e-3, \n",
    "    'num_hidden':128, \n",
    "    'min_eps':0.05, \n",
    "    'max_eps':1., \n",
    "    'anneal_time':1000, \n",
    "    'clone_interval':None, \n",
    "    'clipping':True,\n",
    "    'suppress_printing':True\n",
    "}\n",
    "\n",
    "Bj_durations_list_rF_tF, Bj_losses_list_rF_tF, Bj_max_Qs_list_rF_tF = [], [], []\n",
    "for seed in tqdm(range(1,11)):\n",
    "    durations, losses, max_Qs = run_setting(**settings, seed=seed)\n",
    "    Bj_durations_list_rF_tF.append(durations)\n",
    "    Bj_losses_list_rF_tF.append(losses)\n",
    "    Bj_max_Qs_list_rF_tF.append(max_Qs)\n",
    "filename = f\"Imp2-Acrobot-v1_replay_off_tn_off\"\n",
    "pickle_tuple((Bj_durations_list_rF_tF, Bj_losses_list_rF_tF, Bj_max_Qs_list_rF_tF, settings), filename=filename)"
   ]
  },
  {
   "cell_type": "code",
   "execution_count": 71,
   "metadata": {},
   "outputs": [
    {
     "name": "stderr",
     "output_type": "stream",
     "text": [
      "\r",
      "  0%|          | 0/10 [00:00<?, ?it/s]"
     ]
    },
    {
     "name": "stdout",
     "output_type": "stream",
     "text": [
      "\u001b[33mWARN: gym.spaces.Box autodetected dtype as <class 'numpy.float32'>. Please provide explicit dtype.\u001b[0m\n"
     ]
    },
    {
     "name": "stderr",
     "output_type": "stream",
     "text": [
      "\r",
      " 10%|█         | 1/10 [02:39<23:56, 159.59s/it]"
     ]
    },
    {
     "name": "stdout",
     "output_type": "stream",
     "text": [
      "\u001b[33mWARN: gym.spaces.Box autodetected dtype as <class 'numpy.float32'>. Please provide explicit dtype.\u001b[0m\n"
     ]
    },
    {
     "name": "stderr",
     "output_type": "stream",
     "text": [
      "\r",
      " 20%|██        | 2/10 [05:04<20:41, 155.25s/it]"
     ]
    },
    {
     "name": "stdout",
     "output_type": "stream",
     "text": [
      "\u001b[33mWARN: gym.spaces.Box autodetected dtype as <class 'numpy.float32'>. Please provide explicit dtype.\u001b[0m\n"
     ]
    },
    {
     "name": "stderr",
     "output_type": "stream",
     "text": [
      "\r",
      " 30%|███       | 3/10 [07:29<17:44, 152.07s/it]"
     ]
    },
    {
     "name": "stdout",
     "output_type": "stream",
     "text": [
      "\u001b[33mWARN: gym.spaces.Box autodetected dtype as <class 'numpy.float32'>. Please provide explicit dtype.\u001b[0m\n"
     ]
    },
    {
     "name": "stderr",
     "output_type": "stream",
     "text": [
      "\r",
      " 40%|████      | 4/10 [10:16<15:39, 156.54s/it]"
     ]
    },
    {
     "name": "stdout",
     "output_type": "stream",
     "text": [
      "\u001b[33mWARN: gym.spaces.Box autodetected dtype as <class 'numpy.float32'>. Please provide explicit dtype.\u001b[0m\n"
     ]
    },
    {
     "name": "stderr",
     "output_type": "stream",
     "text": [
      "\r",
      " 50%|█████     | 5/10 [12:30<12:28, 149.78s/it]"
     ]
    },
    {
     "name": "stdout",
     "output_type": "stream",
     "text": [
      "\u001b[33mWARN: gym.spaces.Box autodetected dtype as <class 'numpy.float32'>. Please provide explicit dtype.\u001b[0m\n"
     ]
    },
    {
     "name": "stderr",
     "output_type": "stream",
     "text": [
      "\r",
      " 60%|██████    | 6/10 [14:41<09:36, 144.19s/it]"
     ]
    },
    {
     "name": "stdout",
     "output_type": "stream",
     "text": [
      "\u001b[33mWARN: gym.spaces.Box autodetected dtype as <class 'numpy.float32'>. Please provide explicit dtype.\u001b[0m\n"
     ]
    },
    {
     "name": "stderr",
     "output_type": "stream",
     "text": [
      "\r",
      " 70%|███████   | 7/10 [16:54<07:02, 140.83s/it]"
     ]
    },
    {
     "name": "stdout",
     "output_type": "stream",
     "text": [
      "\u001b[33mWARN: gym.spaces.Box autodetected dtype as <class 'numpy.float32'>. Please provide explicit dtype.\u001b[0m\n"
     ]
    },
    {
     "name": "stderr",
     "output_type": "stream",
     "text": [
      "\r",
      " 80%|████████  | 8/10 [19:24<04:47, 143.52s/it]"
     ]
    },
    {
     "name": "stdout",
     "output_type": "stream",
     "text": [
      "\u001b[33mWARN: gym.spaces.Box autodetected dtype as <class 'numpy.float32'>. Please provide explicit dtype.\u001b[0m\n"
     ]
    },
    {
     "name": "stderr",
     "output_type": "stream",
     "text": [
      "\r",
      " 90%|█████████ | 9/10 [21:44<02:22, 142.44s/it]"
     ]
    },
    {
     "name": "stdout",
     "output_type": "stream",
     "text": [
      "\u001b[33mWARN: gym.spaces.Box autodetected dtype as <class 'numpy.float32'>. Please provide explicit dtype.\u001b[0m\n"
     ]
    },
    {
     "name": "stderr",
     "output_type": "stream",
     "text": [
      "100%|██████████| 10/10 [24:10<00:00, 145.01s/it]\n"
     ]
    }
   ],
   "source": [
    "# ACROBOT: Replay ON, Target Network OFF\n",
    "settings = {\n",
    "    'env_name':\"Acrobot-v1\",\n",
    "    'num_episodes':600,\n",
    "    'batch_size':64, \n",
    "    'memory_size':10000, \n",
    "    'discount_factor':0.999, \n",
    "    'learn_rate':1e-3, \n",
    "    'num_hidden':128, \n",
    "    'min_eps':0.05, \n",
    "    'max_eps':1., \n",
    "    'anneal_time':1000, \n",
    "    'clone_interval':None, \n",
    "    'clipping':True,\n",
    "    'suppress_printing':True\n",
    "}\n",
    "\n",
    "Bj_durations_list_rT_tF, Bj_losses_list_rT_tF, Bj_max_Qs_list_rT_tF = [], [], []\n",
    "for seed in tqdm(range(1,11)):\n",
    "    durations, losses, max_Qs = run_setting(**settings, seed=seed)\n",
    "    Bj_durations_list_rT_tF.append(durations)\n",
    "    Bj_losses_list_rT_tF.append(losses)\n",
    "    Bj_max_Qs_list_rT_tF.append(max_Qs)\n",
    "filename = f\"Imp2-Acrobot-v1_replay_on_tn_off\"\n",
    "pickle_tuple((Bj_durations_list_rT_tF, Bj_losses_list_rT_tF, Bj_max_Qs_list_rT_tF, settings), filename=filename)"
   ]
  },
  {
   "cell_type": "code",
   "execution_count": 72,
   "metadata": {},
   "outputs": [
    {
     "name": "stderr",
     "output_type": "stream",
     "text": [
      "\r",
      "  0%|          | 0/10 [00:00<?, ?it/s]"
     ]
    },
    {
     "name": "stdout",
     "output_type": "stream",
     "text": [
      "\u001b[33mWARN: gym.spaces.Box autodetected dtype as <class 'numpy.float32'>. Please provide explicit dtype.\u001b[0m\n"
     ]
    },
    {
     "name": "stderr",
     "output_type": "stream",
     "text": [
      "\r",
      " 10%|█         | 1/10 [03:23<30:34, 203.86s/it]"
     ]
    },
    {
     "name": "stdout",
     "output_type": "stream",
     "text": [
      "\u001b[33mWARN: gym.spaces.Box autodetected dtype as <class 'numpy.float32'>. Please provide explicit dtype.\u001b[0m\n"
     ]
    },
    {
     "name": "stderr",
     "output_type": "stream",
     "text": [
      "\r",
      " 20%|██        | 2/10 [08:49<32:03, 240.46s/it]"
     ]
    },
    {
     "name": "stdout",
     "output_type": "stream",
     "text": [
      "\u001b[33mWARN: gym.spaces.Box autodetected dtype as <class 'numpy.float32'>. Please provide explicit dtype.\u001b[0m\n"
     ]
    },
    {
     "name": "stderr",
     "output_type": "stream",
     "text": [
      "\r",
      " 30%|███       | 3/10 [13:55<30:19, 259.97s/it]"
     ]
    },
    {
     "name": "stdout",
     "output_type": "stream",
     "text": [
      "\u001b[33mWARN: gym.spaces.Box autodetected dtype as <class 'numpy.float32'>. Please provide explicit dtype.\u001b[0m\n"
     ]
    },
    {
     "name": "stderr",
     "output_type": "stream",
     "text": [
      "\r",
      " 40%|████      | 4/10 [18:39<26:43, 267.20s/it]"
     ]
    },
    {
     "name": "stdout",
     "output_type": "stream",
     "text": [
      "\u001b[33mWARN: gym.spaces.Box autodetected dtype as <class 'numpy.float32'>. Please provide explicit dtype.\u001b[0m\n"
     ]
    },
    {
     "name": "stderr",
     "output_type": "stream",
     "text": [
      "\r",
      " 50%|█████     | 5/10 [23:44<23:13, 278.70s/it]"
     ]
    },
    {
     "name": "stdout",
     "output_type": "stream",
     "text": [
      "\u001b[33mWARN: gym.spaces.Box autodetected dtype as <class 'numpy.float32'>. Please provide explicit dtype.\u001b[0m\n"
     ]
    },
    {
     "name": "stderr",
     "output_type": "stream",
     "text": [
      "\r",
      " 60%|██████    | 6/10 [28:52<19:09, 287.26s/it]"
     ]
    },
    {
     "name": "stdout",
     "output_type": "stream",
     "text": [
      "\u001b[33mWARN: gym.spaces.Box autodetected dtype as <class 'numpy.float32'>. Please provide explicit dtype.\u001b[0m\n"
     ]
    },
    {
     "name": "stderr",
     "output_type": "stream",
     "text": [
      "\r",
      " 70%|███████   | 7/10 [31:58<12:50, 256.98s/it]"
     ]
    },
    {
     "name": "stdout",
     "output_type": "stream",
     "text": [
      "\u001b[33mWARN: gym.spaces.Box autodetected dtype as <class 'numpy.float32'>. Please provide explicit dtype.\u001b[0m\n"
     ]
    },
    {
     "name": "stderr",
     "output_type": "stream",
     "text": [
      "\r",
      " 80%|████████  | 8/10 [36:59<09:00, 270.15s/it]"
     ]
    },
    {
     "name": "stdout",
     "output_type": "stream",
     "text": [
      "\u001b[33mWARN: gym.spaces.Box autodetected dtype as <class 'numpy.float32'>. Please provide explicit dtype.\u001b[0m\n"
     ]
    },
    {
     "name": "stderr",
     "output_type": "stream",
     "text": [
      "\r",
      " 90%|█████████ | 9/10 [40:40<04:15, 255.61s/it]"
     ]
    },
    {
     "name": "stdout",
     "output_type": "stream",
     "text": [
      "\u001b[33mWARN: gym.spaces.Box autodetected dtype as <class 'numpy.float32'>. Please provide explicit dtype.\u001b[0m\n"
     ]
    },
    {
     "name": "stderr",
     "output_type": "stream",
     "text": [
      "100%|██████████| 10/10 [42:40<00:00, 256.01s/it]\n"
     ]
    }
   ],
   "source": [
    "# ACROBOT: Replay OFF, Target Network ON\n",
    "settings = {\n",
    "    'env_name':\"Acrobot-v1\",\n",
    "    'num_episodes':600,\n",
    "    'batch_size':1, \n",
    "    'memory_size':1, \n",
    "    'discount_factor':0.999, \n",
    "    'learn_rate':1e-3, \n",
    "    'num_hidden':128, \n",
    "    'min_eps':0.05, \n",
    "    'max_eps':1., \n",
    "    'anneal_time':1000, \n",
    "    'clone_interval':50000, \n",
    "    'clipping':True,\n",
    "    'suppress_printing':True\n",
    "}\n",
    "\n",
    "Bj_durations_list_rF_tT, Bj_losses_list_rF_tT, Bj_max_Qs_list_rF_tT = [], [], []\n",
    "for seed in tqdm(range(1,11)):\n",
    "    durations, losses, max_Qs = run_setting(**settings, seed=seed)\n",
    "    Bj_durations_list_rF_tT.append(durations)\n",
    "    Bj_losses_list_rF_tT.append(losses)\n",
    "    Bj_max_Qs_list_rF_tT.append(max_Qs)\n",
    "filename = f\"Imp2-Acrobot-v1_replay_off_tn_on\"\n",
    "pickle_tuple((Bj_durations_list_rF_tT, Bj_losses_list_rF_tT, Bj_max_Qs_list_rF_tT, settings), filename=filename)"
   ]
  },
  {
   "cell_type": "code",
   "execution_count": 73,
   "metadata": {},
   "outputs": [
    {
     "name": "stderr",
     "output_type": "stream",
     "text": [
      "\r",
      "  0%|          | 0/10 [00:00<?, ?it/s]"
     ]
    },
    {
     "name": "stdout",
     "output_type": "stream",
     "text": [
      "\u001b[33mWARN: gym.spaces.Box autodetected dtype as <class 'numpy.float32'>. Please provide explicit dtype.\u001b[0m\n"
     ]
    },
    {
     "name": "stderr",
     "output_type": "stream",
     "text": [
      "\r",
      " 10%|█         | 1/10 [01:33<13:57, 93.10s/it]"
     ]
    },
    {
     "name": "stdout",
     "output_type": "stream",
     "text": [
      "\u001b[33mWARN: gym.spaces.Box autodetected dtype as <class 'numpy.float32'>. Please provide explicit dtype.\u001b[0m\n"
     ]
    },
    {
     "name": "stderr",
     "output_type": "stream",
     "text": [
      "\r",
      " 20%|██        | 2/10 [02:59<12:07, 91.00s/it]"
     ]
    },
    {
     "name": "stdout",
     "output_type": "stream",
     "text": [
      "\u001b[33mWARN: gym.spaces.Box autodetected dtype as <class 'numpy.float32'>. Please provide explicit dtype.\u001b[0m\n"
     ]
    },
    {
     "name": "stderr",
     "output_type": "stream",
     "text": [
      "\r",
      " 30%|███       | 3/10 [04:24<10:24, 89.14s/it]"
     ]
    },
    {
     "name": "stdout",
     "output_type": "stream",
     "text": [
      "\u001b[33mWARN: gym.spaces.Box autodetected dtype as <class 'numpy.float32'>. Please provide explicit dtype.\u001b[0m\n"
     ]
    },
    {
     "name": "stderr",
     "output_type": "stream",
     "text": [
      "\r",
      " 40%|████      | 4/10 [05:57<09:01, 90.32s/it]"
     ]
    },
    {
     "name": "stdout",
     "output_type": "stream",
     "text": [
      "\u001b[33mWARN: gym.spaces.Box autodetected dtype as <class 'numpy.float32'>. Please provide explicit dtype.\u001b[0m\n"
     ]
    },
    {
     "name": "stderr",
     "output_type": "stream",
     "text": [
      "\r",
      " 50%|█████     | 5/10 [07:39<07:49, 93.95s/it]"
     ]
    },
    {
     "name": "stdout",
     "output_type": "stream",
     "text": [
      "\u001b[33mWARN: gym.spaces.Box autodetected dtype as <class 'numpy.float32'>. Please provide explicit dtype.\u001b[0m\n"
     ]
    },
    {
     "name": "stderr",
     "output_type": "stream",
     "text": [
      "\r",
      " 60%|██████    | 6/10 [09:23<06:28, 97.09s/it]"
     ]
    },
    {
     "name": "stdout",
     "output_type": "stream",
     "text": [
      "\u001b[33mWARN: gym.spaces.Box autodetected dtype as <class 'numpy.float32'>. Please provide explicit dtype.\u001b[0m\n"
     ]
    },
    {
     "name": "stderr",
     "output_type": "stream",
     "text": [
      "\r",
      " 70%|███████   | 7/10 [10:58<04:48, 96.27s/it]"
     ]
    },
    {
     "name": "stdout",
     "output_type": "stream",
     "text": [
      "\u001b[33mWARN: gym.spaces.Box autodetected dtype as <class 'numpy.float32'>. Please provide explicit dtype.\u001b[0m\n"
     ]
    },
    {
     "name": "stderr",
     "output_type": "stream",
     "text": [
      "\r",
      " 80%|████████  | 8/10 [12:28<03:08, 94.49s/it]"
     ]
    },
    {
     "name": "stdout",
     "output_type": "stream",
     "text": [
      "\u001b[33mWARN: gym.spaces.Box autodetected dtype as <class 'numpy.float32'>. Please provide explicit dtype.\u001b[0m\n"
     ]
    },
    {
     "name": "stderr",
     "output_type": "stream",
     "text": [
      "\r",
      " 90%|█████████ | 9/10 [13:59<01:33, 93.39s/it]"
     ]
    },
    {
     "name": "stdout",
     "output_type": "stream",
     "text": [
      "\u001b[33mWARN: gym.spaces.Box autodetected dtype as <class 'numpy.float32'>. Please provide explicit dtype.\u001b[0m\n"
     ]
    },
    {
     "name": "stderr",
     "output_type": "stream",
     "text": [
      "100%|██████████| 10/10 [15:29<00:00, 92.93s/it]\n"
     ]
    }
   ],
   "source": [
    "# ACROBOT: Replay ON, Target Network ON\n",
    "settings = {\n",
    "    'env_name':\"Acrobot-v1\",\n",
    "    'num_episodes':600,\n",
    "    'batch_size':64, \n",
    "    'memory_size':10000, \n",
    "    'discount_factor':0.999, \n",
    "    'learn_rate':1e-3, \n",
    "    'num_hidden':128, \n",
    "    'min_eps':0.05, \n",
    "    'max_eps':1., \n",
    "    'anneal_time':1000, \n",
    "    'clone_interval':500, \n",
    "    'clipping':True,\n",
    "    'suppress_printing':True\n",
    "}\n",
    "\n",
    "Bj_durations_list_rT_tT, Bj_losses_list_rT_tT, Bj_max_Qs_list_rT_tT = [], [], []\n",
    "for seed in tqdm(range(1,11)):\n",
    "    durations, losses, max_Qs = run_setting(**settings, seed=seed)\n",
    "    Bj_durations_list_rT_tT.append(durations)\n",
    "    Bj_losses_list_rT_tT.append(losses)\n",
    "    Bj_max_Qs_list_rT_tT.append(max_Qs)\n",
    "filename = f\"Imp3-Acrobot-v1_replay_on_tn_on\"\n",
    "pickle_tuple((Bj_durations_list_rT_tT, Bj_losses_list_rT_tT, Bj_max_Qs_list_rT_tT, settings), filename=filename)"
   ]
  },
  {
   "cell_type": "code",
   "execution_count": 75,
   "metadata": {},
   "outputs": [
    {
     "data": {
      "image/png": "[encoded data removed]",
      "text/plain": [
       "<Figure size 1080x309.6 with 3 Axes>"
      ]
     },
     "metadata": {
      "needs_background": "light"
     },
     "output_type": "display_data"
    }
   ],
   "source": [
    "filename = f\"Imp2-Acrobot-v1_replay_off_tn_off\"\n",
    "(Bj_durations_list_rF_tF, Bj_losses_list_rF_tF, Bj_max_Qs_list_rF_tF, settings) = \\\n",
    "unpickle_tuple(filename=filename)\n",
    "\n",
    "filename = f\"Imp2-Acrobot-v1_replay_on_tn_off\"\n",
    "(Bj_durations_list_rT_tF, Bj_losses_list_rT_tF, Bj_max_Qs_list_rT_tF, settings) = \\\n",
    "unpickle_tuple(filename=filename)\n",
    "\n",
    "filename = f\"Imp2-Acrobot-v1_replay_off_tn_on\"\n",
    "(Bj_durations_list_rF_tT, Bj_losses_list_rF_tT, Bj_max_Qs_list_rF_tT, settings) = \\\n",
    "unpickle_tuple(filename=filename)\n",
    "\n",
    "filename = f\"Imp3-Acrobot-v1_replay_on_tn_on\"\n",
    "(Bj_durations_list_rT_tT, Bj_losses_list_rT_tT, Bj_max_Qs_list_rT_tT, settings) = \\\n",
    "unpickle_tuple(filename=filename)\n",
    "\n",
    "\n",
    "# Using subplots:\n",
    "fig, (ax1, ax2, ax3) = plt.subplots(1, 3, figsize=(15,4.3), tight_layout=True)\n",
    "plot_multiple([Bj_losses_list_rF_tF, Bj_losses_list_rF_tT, Bj_losses_list_rT_tF, Bj_losses_list_rT_tT], \n",
    "              labels=[\"DQN\", \"DQN-TN\",\n",
    "                     \"DQN-ER\", \"Robust-DQN\"],  \n",
    "              legend_off = False, log=True, smooth = 10,\n",
    "             subplot=(fig,ax2), title=\"Loss averaged over steps per episode\")\n",
    "\n",
    "discount_factor = settings['discount_factor']\n",
    "line_level = 1./(1-discount_factor)\n",
    "\n",
    "plot_multiple([Bj_max_Qs_list_rF_tF, Bj_max_Qs_list_rF_tT, Bj_max_Qs_list_rT_tF, Bj_max_Qs_list_rT_tT], \n",
    "              labels=[\"DQN\", \"DQN-TN\",\n",
    "                     \"DQN-ER\", \"Robust-DQN\"],  \n",
    "              y_label='Max |Q|', red_line=line_level, \n",
    "              legend_off = False, smooth=10, subplot=(fig,ax3), title=\"max|Q| averaged over steps per episode\")\n",
    "\n",
    "plot_multiple([Bj_durations_list_rF_tF, Bj_durations_list_rF_tT, Bj_durations_list_rT_tF, Bj_durations_list_rT_tT], \n",
    "              labels=[\"DQN\", \"DQN-TN\",\n",
    "                     \"DQN-ER\", \"Robust-DQN\"],  \n",
    "              filename=\"Sub_Imp3-Acrobot_full_test_dura_smooth\", y_label='Duration', red_line=500, br=False, \n",
    "              legend_off = False, smooth=10, subplot=(fig,ax1), title=\"Episode durations\")"
   ]
  }
 ],
 "metadata": {
  "kernelspec": {
   "display_name": "Python 3",
   "language": "python",
   "name": "python3"
  },
  "language_info": {
   "codemirror_mode": {
    "name": "ipython",
    "version": 3
   },
   "file_extension": ".py",
   "mimetype": "text/x-python",
   "name": "python",
   "nbconvert_exporter": "python",
   "pygments_lexer": "ipython3",
   "version": "3.7.9"
  }
 },
 "nbformat": 4,
 "nbformat_minor": 4
}
