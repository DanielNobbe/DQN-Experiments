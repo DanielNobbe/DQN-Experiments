{
 "cells": [
  {
   "cell_type": "code",
   "execution_count": 12,
   "metadata": {},
   "outputs": [],
   "source": [
    "import numpy as np\n",
    "import random\n",
    "import torch\n",
    "from torch import nn\n",
    "import torch.nn.functional as F\n",
    "import matplotlib.pyplot as plt\n",
    "from torch import optim\n",
    "from tqdm import tqdm as _tqdm\n",
    "import gym\n",
    "import argparse\n",
    "import copy\n",
    "from gridworld import GridworldEnv\n",
    "\n",
    "from contextlib import contextmanager\n",
    "import sys, os\n",
    "\n",
    "from DQN_model import QNetwork\n",
    "from DQN_replay import ReplayMemory\n",
    "from DQN_policy import EpsilonGreedyPolicy, get_epsilon\n",
    "from DQN_training import train\n",
    "from DQN_plots import plot_smooth\n",
    "from DQN_main import run_episodes"
   ]
  },
  {
   "cell_type": "code",
   "execution_count": 28,
   "metadata": {},
   "outputs": [],
   "source": [
    "@contextmanager\n",
    "def suppress_stdout(suppress):\n",
    "    with open(os.devnull, \"w\") as devnull:\n",
    "        old_stdout = sys.stdout\n",
    "        if suppress:\n",
    "            sys.stdout = devnull\n",
    "        try:  \n",
    "            yield\n",
    "        finally:\n",
    "            sys.stdout = old_stdout"
   ]
  },
  {
   "cell_type": "code",
   "execution_count": 31,
   "metadata": {},
   "outputs": [],
   "source": [
    "def run_setting(env_name, num_episodes, batch_size, memory_size, discount_factor, learn_rate, seed, num_hidden, \n",
    "                min_eps, max_eps, anneal_time, clone_interval, clipping, suppress_printing):\n",
    "    # mostly copied from main() in DQN_main.py, removed some code for overview\n",
    "    # if you want replay to be turned off, use batch_size=memory_size=1\n",
    "    # returns episode durations (list), losses averaged per step (list), max abs q averaged per step (list)\n",
    "    \n",
    "    env = GridworldEnv() if env_name == \"GridWorldEnv\" else gym.make(env_name)\n",
    "\n",
    "    obs_shape = env.observation_space.shape\n",
    "    num_actions = env.action_space.n\n",
    "    obs_size = obs_shape[0] if len(obs_shape) > 0 else 1\n",
    "\n",
    "    memory = ReplayMemory(memory_size)\n",
    "\n",
    "    # for reproducibility\n",
    "    random.seed(seed)\n",
    "    torch.manual_seed(seed)\n",
    "    env.seed(seed)\n",
    "\n",
    "    Q_net = QNetwork(obs_size, num_actions, num_hidden=num_hidden)\n",
    "    policy = EpsilonGreedyPolicy(Q_net, num_actions)\n",
    "    with suppress_stdout(suppress_printing):\n",
    "        return run_episodes(train, Q_net, policy, memory, env, num_episodes, batch_size, discount_factor, \n",
    "                            learn_rate, clone_interval, min_eps, max_eps, anneal_time, clipping)"
   ]
  },
  {
   "cell_type": "code",
   "execution_count": 32,
   "metadata": {},
   "outputs": [],
   "source": [
    "durations_list, losses_list, max_Qs_list = [], [], []\n",
    "for seed in [1,2,3]:\n",
    "    durations, losses, max_Qs = run_setting(env_name=\"CartPole-v1\",\n",
    "                                            num_episodes=100,\n",
    "                                            batch_size=64, \n",
    "                                            memory_size=1, \n",
    "                                            discount_factor=0.9, \n",
    "                                            learn_rate=1e-4, \n",
    "                                            seed=seed, \n",
    "                                            num_hidden=128, \n",
    "                                            min_eps=0.05, \n",
    "                                            max_eps=1., \n",
    "                                            anneal_time=1000, \n",
    "                                            clone_interval=None, \n",
    "                                            clipping=True,\n",
    "                                            suppress_printing=True)\n",
    "    durations_list.append(durations)\n",
    "    losses_list.append(losses)\n",
    "    max_Qs_list.append(max_Qs)"
   ]
  },
  {
   "cell_type": "code",
   "execution_count": 34,
   "metadata": {},
   "outputs": [
    {
     "data": {
      "text/plain": [
       "[<matplotlib.lines.Line2D at 0x1a22ed93c8>]"
      ]
     },
     "execution_count": 34,
     "metadata": {},
     "output_type": "execute_result"
    },
    {
     "data": {
      "image/png": "[encoded data removed]",
      "text/plain": [
       "<Figure size 432x288 with 1 Axes>"
      ]
     },
     "metadata": {
      "needs_background": "light"
     },
     "output_type": "display_data"
    }
   ],
   "source": [
    "# example plot\n",
    "plt.plot(losses_list[0])"
   ]
  },
  {
   "cell_type": "code",
   "execution_count": null,
   "metadata": {},
   "outputs": [],
   "source": []
  }
 ],
 "metadata": {
  "kernelspec": {
   "display_name": "Python 3",
   "language": "python",
   "name": "python3"
  },
  "language_info": {
   "codemirror_mode": {
    "name": "ipython",
    "version": 3
   },
   "file_extension": ".py",
   "mimetype": "text/x-python",
   "name": "python",
   "nbconvert_exporter": "python",
   "pygments_lexer": "ipython3",
   "version": "3.7.3"
  }
 },
 "nbformat": 4,
 "nbformat_minor": 4
}
